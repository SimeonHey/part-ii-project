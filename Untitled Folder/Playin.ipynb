{
 "cells": [
  {
   "cell_type": "code",
   "execution_count": 1,
   "metadata": {},
   "outputs": [],
   "source": [
    "import pandas as pd\n",
    "import numpy as np\n",
    "import matplotlib.pyplot as plt"
   ]
  },
  {
   "cell_type": "code",
   "execution_count": 5,
   "metadata": {},
   "outputs": [],
   "source": [
    "def get_csv(timestamp, metric):\n",
    "    return pd.read_csv(f'../dontgitme/{timestamp}/{metric}.csv')"
   ]
  },
  {
   "cell_type": "code",
   "execution_count": 9,
   "metadata": {},
   "outputs": [
    {
     "data": {
      "text/html": [
       "<div>\n",
       "<style scoped>\n",
       "    .dataframe tbody tr th:only-of-type {\n",
       "        vertical-align: middle;\n",
       "    }\n",
       "\n",
       "    .dataframe tbody tr th {\n",
       "        vertical-align: top;\n",
       "    }\n",
       "\n",
       "    .dataframe thead th {\n",
       "        text-align: right;\n",
       "    }\n",
       "</style>\n",
       "<table border=\"1\" class=\"dataframe\">\n",
       "  <thead>\n",
       "    <tr style=\"text-align: right;\">\n",
       "      <th></th>\n",
       "      <th>t</th>\n",
       "      <th>count</th>\n",
       "      <th>mean_rate</th>\n",
       "      <th>m1_rate</th>\n",
       "      <th>m5_rate</th>\n",
       "      <th>m15_rate</th>\n",
       "      <th>rate_unit</th>\n",
       "    </tr>\n",
       "  </thead>\n",
       "  <tbody>\n",
       "    <tr>\n",
       "      <th>0</th>\n",
       "      <td>1587889919</td>\n",
       "      <td>99</td>\n",
       "      <td>104.250203</td>\n",
       "      <td>0.000000</td>\n",
       "      <td>0.000000</td>\n",
       "      <td>0.000000</td>\n",
       "      <td>events/second</td>\n",
       "    </tr>\n",
       "    <tr>\n",
       "      <th>1</th>\n",
       "      <td>1587889920</td>\n",
       "      <td>215</td>\n",
       "      <td>110.319550</td>\n",
       "      <td>0.000000</td>\n",
       "      <td>0.000000</td>\n",
       "      <td>0.000000</td>\n",
       "      <td>events/second</td>\n",
       "    </tr>\n",
       "    <tr>\n",
       "      <th>2</th>\n",
       "      <td>1587889921</td>\n",
       "      <td>331</td>\n",
       "      <td>112.380810</td>\n",
       "      <td>0.000000</td>\n",
       "      <td>0.000000</td>\n",
       "      <td>0.000000</td>\n",
       "      <td>events/second</td>\n",
       "    </tr>\n",
       "    <tr>\n",
       "      <th>3</th>\n",
       "      <td>1587889922</td>\n",
       "      <td>442</td>\n",
       "      <td>111.335420</td>\n",
       "      <td>0.000000</td>\n",
       "      <td>0.000000</td>\n",
       "      <td>0.000000</td>\n",
       "      <td>events/second</td>\n",
       "    </tr>\n",
       "    <tr>\n",
       "      <th>4</th>\n",
       "      <td>1587889923</td>\n",
       "      <td>539</td>\n",
       "      <td>108.998418</td>\n",
       "      <td>0.000000</td>\n",
       "      <td>0.000000</td>\n",
       "      <td>0.000000</td>\n",
       "      <td>events/second</td>\n",
       "    </tr>\n",
       "    <tr>\n",
       "      <th>...</th>\n",
       "      <td>...</td>\n",
       "      <td>...</td>\n",
       "      <td>...</td>\n",
       "      <td>...</td>\n",
       "      <td>...</td>\n",
       "      <td>...</td>\n",
       "      <td>...</td>\n",
       "    </tr>\n",
       "    <tr>\n",
       "      <th>93</th>\n",
       "      <td>1587890012</td>\n",
       "      <td>8825</td>\n",
       "      <td>93.939214</td>\n",
       "      <td>85.973287</td>\n",
       "      <td>103.649659</td>\n",
       "      <td>106.946894</td>\n",
       "      <td>events/second</td>\n",
       "    </tr>\n",
       "    <tr>\n",
       "      <th>94</th>\n",
       "      <td>1587890013</td>\n",
       "      <td>8959</td>\n",
       "      <td>94.361113</td>\n",
       "      <td>85.973287</td>\n",
       "      <td>103.649659</td>\n",
       "      <td>106.946894</td>\n",
       "      <td>events/second</td>\n",
       "    </tr>\n",
       "    <tr>\n",
       "      <th>95</th>\n",
       "      <td>1587890014</td>\n",
       "      <td>9098</td>\n",
       "      <td>94.826381</td>\n",
       "      <td>89.957211</td>\n",
       "      <td>104.181057</td>\n",
       "      <td>107.106745</td>\n",
       "      <td>events/second</td>\n",
       "    </tr>\n",
       "    <tr>\n",
       "      <th>96</th>\n",
       "      <td>1587890015</td>\n",
       "      <td>9234</td>\n",
       "      <td>95.250193</td>\n",
       "      <td>89.957211</td>\n",
       "      <td>104.181057</td>\n",
       "      <td>107.106745</td>\n",
       "      <td>events/second</td>\n",
       "    </tr>\n",
       "    <tr>\n",
       "      <th>97</th>\n",
       "      <td>1587890016</td>\n",
       "      <td>9373</td>\n",
       "      <td>95.697801</td>\n",
       "      <td>89.957211</td>\n",
       "      <td>104.181057</td>\n",
       "      <td>107.106745</td>\n",
       "      <td>events/second</td>\n",
       "    </tr>\n",
       "  </tbody>\n",
       "</table>\n",
       "<p>98 rows × 7 columns</p>\n",
       "</div>"
      ],
      "text/plain": [
       "             t  count   mean_rate    m1_rate     m5_rate    m15_rate  \\\n",
       "0   1587889919     99  104.250203   0.000000    0.000000    0.000000   \n",
       "1   1587889920    215  110.319550   0.000000    0.000000    0.000000   \n",
       "2   1587889921    331  112.380810   0.000000    0.000000    0.000000   \n",
       "3   1587889922    442  111.335420   0.000000    0.000000    0.000000   \n",
       "4   1587889923    539  108.998418   0.000000    0.000000    0.000000   \n",
       "..         ...    ...         ...        ...         ...         ...   \n",
       "93  1587890012   8825   93.939214  85.973287  103.649659  106.946894   \n",
       "94  1587890013   8959   94.361113  85.973287  103.649659  106.946894   \n",
       "95  1587890014   9098   94.826381  89.957211  104.181057  107.106745   \n",
       "96  1587890015   9234   95.250193  89.957211  104.181057  107.106745   \n",
       "97  1587890016   9373   95.697801  89.957211  104.181057  107.106745   \n",
       "\n",
       "        rate_unit  \n",
       "0   events/second  \n",
       "1   events/second  \n",
       "2   events/second  \n",
       "3   events/second  \n",
       "4   events/second  \n",
       "..            ...  \n",
       "93  events/second  \n",
       "94  events/second  \n",
       "95  events/second  \n",
       "96  events/second  \n",
       "97  events/second  \n",
       "\n",
       "[98 rows x 7 columns]"
      ]
     },
     "execution_count": 9,
     "metadata": {},
     "output_type": "execute_result"
    }
   ],
   "source": [
    "df_rate = get_csv(1587889917228, 'ops-sent-all')\n",
    "df_rate"
   ]
  },
  {
   "cell_type": "code",
   "execution_count": 18,
   "metadata": {},
   "outputs": [
    {
     "data": {
      "text/plain": [
       "array([116, 116, 111,  97, 114, 125, 126, 115, 111, 125, 123, 123, 119,\n",
       "       111, 124, 129, 127, 128, 115, 127, 127, 128, 124, 112, 126, 128,\n",
       "       128, 125, 123, 129, 127, 128, 126, 123, 126, 128, 129, 125, 120,\n",
       "       128, 128, 128, 123, 119, 129, 128, 129, 127, 114, 125, 130, 129,\n",
       "       122, 119, 128, 128, 127, 127, 122,   7,   0,   0,   0,   0,   0,\n",
       "         0,   0,   0,   0,   0,   0,   0,   0,   0,   0,   0,   0,   0,\n",
       "         0,   0,   0,   0,  94, 127, 137, 138, 139, 138, 127, 139, 138,\n",
       "       139, 129, 134, 139, 136, 139])"
      ]
     },
     "execution_count": 18,
     "metadata": {},
     "output_type": "execute_result"
    }
   ],
   "source": [
    "df_rate['count'][1:].values - df_rate['count'][:-1].values"
   ]
  },
  {
   "cell_type": "code",
   "execution_count": 17,
   "metadata": {},
   "outputs": [
    {
     "data": {
      "text/plain": [
       "array([  99,  215,  331,  442,  539,  653,  778,  904, 1019, 1130, 1255,\n",
       "       1378, 1501, 1620, 1731, 1855, 1984, 2111, 2239, 2354, 2481, 2608,\n",
       "       2736, 2860, 2972, 3098, 3226, 3354, 3479, 3602, 3731, 3858, 3986,\n",
       "       4112, 4235, 4361, 4489, 4618, 4743, 4863, 4991, 5119, 5247, 5370,\n",
       "       5489, 5618, 5746, 5875, 6002, 6116, 6241, 6371, 6500, 6622, 6741,\n",
       "       6869, 6997, 7124, 7251, 7373, 7380, 7380, 7380, 7380, 7380, 7380,\n",
       "       7380, 7380, 7380, 7380, 7380, 7380, 7380, 7380, 7380, 7380, 7380,\n",
       "       7380, 7380, 7380, 7380, 7380, 7380, 7474, 7601, 7738, 7876, 8015,\n",
       "       8153, 8280, 8419, 8557, 8696, 8825, 8959, 9098, 9234])"
      ]
     },
     "execution_count": 17,
     "metadata": {},
     "output_type": "execute_result"
    }
   ],
   "source": []
  },
  {
   "cell_type": "code",
   "execution_count": null,
   "metadata": {},
   "outputs": [],
   "source": []
  }
 ],
 "metadata": {
  "kernelspec": {
   "display_name": "Python 3",
   "language": "python",
   "name": "python3"
  },
  "language_info": {
   "codemirror_mode": {
    "name": "ipython",
    "version": 3
   },
   "file_extension": ".py",
   "mimetype": "text/x-python",
   "name": "python",
   "nbconvert_exporter": "python",
   "pygments_lexer": "ipython3",
   "version": "3.7.6"
  }
 },
 "nbformat": 4,
 "nbformat_minor": 4
}
