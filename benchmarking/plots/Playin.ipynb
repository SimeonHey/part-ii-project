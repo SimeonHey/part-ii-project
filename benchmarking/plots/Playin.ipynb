{
 "cells": [
  {
   "cell_type": "code",
   "execution_count": 1,
   "metadata": {},
   "outputs": [],
   "source": [
    "import pandas as pd\n",
    "import numpy as np\n",
    "import matplotlib.pyplot as plt"
   ]
  },
  {
   "cell_type": "code",
   "execution_count": 5,
   "metadata": {},
   "outputs": [],
   "source": [
    "def get_csv(timestamp, metric):\n",
    "    return pd.read_csv(f'../dontgitme/{timestamp}/{metric}.csv')"
   ]
  },
  {
   "cell_type": "code",
   "execution_count": 9,
   "metadata": {},
   "outputs": [
    {
     "data": {
      "text/html": [
       "<div>\n",
       "<style scoped>\n",
       "    .dataframe tbody tr th:only-of-type {\n",
       "        vertical-align: middle;\n",
       "    }\n",
       "\n",
       "    .dataframe tbody tr th {\n",
       "        vertical-align: top;\n",
       "    }\n",
       "\n",
       "    .dataframe thead th {\n",
       "        text-align: right;\n",
       "    }\n",
       "</style>\n",
       "<table border=\"1\" class=\"dataframe\">\n",
       "  <thead>\n",
       "    <tr style=\"text-align: right;\">\n",
       "      <th></th>\n",
       "      <th>t</th>\n",
       "      <th>count</th>\n",
       "      <th>mean_rate</th>\n",
       "      <th>m1_rate</th>\n",
       "      <th>m5_rate</th>\n",
       "      <th>m15_rate</th>\n",
       "      <th>rate_unit</th>\n",
       "    </tr>\n",
       "  </thead>\n",
       "  <tbody>\n",
       "    <tr>\n",
       "      <th>0</th>\n",
       "      <td>1587889919</td>\n",
       "      <td>99</td>\n",
       "      <td>104.250203</td>\n",
       "      <td>0.000000</td>\n",
       "      <td>0.000000</td>\n",
       "      <td>0.000000</td>\n",
       "      <td>events/second</td>\n",
       "    </tr>\n",
       "    <tr>\n",
       "      <th>1</th>\n",
       "      <td>1587889920</td>\n",
       "      <td>215</td>\n",
       "      <td>110.319550</td>\n",
       "      <td>0.000000</td>\n",
       "      <td>0.000000</td>\n",
       "      <td>0.000000</td>\n",
       "      <td>events/second</td>\n",
       "    </tr>\n",
       "    <tr>\n",
       "      <th>2</th>\n",
       "      <td>1587889921</td>\n",
       "      <td>331</td>\n",
       "      <td>112.380810</td>\n",
       "      <td>0.000000</td>\n",
       "      <td>0.000000</td>\n",
       "      <td>0.000000</td>\n",
       "      <td>events/second</td>\n",
       "    </tr>\n",
       "    <tr>\n",
       "      <th>3</th>\n",
       "      <td>1587889922</td>\n",
       "      <td>442</td>\n",
       "      <td>111.335420</td>\n",
       "      <td>0.000000</td>\n",
       "      <td>0.000000</td>\n",
       "      <td>0.000000</td>\n",
       "      <td>events/second</td>\n",
       "    </tr>\n",
       "    <tr>\n",
       "      <th>4</th>\n",
       "      <td>1587889923</td>\n",
       "      <td>539</td>\n",
       "      <td>108.998418</td>\n",
       "      <td>0.000000</td>\n",
       "      <td>0.000000</td>\n",
       "      <td>0.000000</td>\n",
       "      <td>events/second</td>\n",
       "    </tr>\n",
       "    <tr>\n",
       "      <th>...</th>\n",
       "      <td>...</td>\n",
       "      <td>...</td>\n",
       "      <td>...</td>\n",
       "      <td>...</td>\n",
       "      <td>...</td>\n",
       "      <td>...</td>\n",
       "      <td>...</td>\n",
       "    </tr>\n",
       "    <tr>\n",
       "      <th>93</th>\n",
       "      <td>1587890012</td>\n",
       "      <td>8825</td>\n",
       "      <td>93.939214</td>\n",
       "      <td>85.973287</td>\n",
       "      <td>103.649659</td>\n",
       "      <td>106.946894</td>\n",
       "      <td>events/second</td>\n",
       "    </tr>\n",
       "    <tr>\n",
       "      <th>94</th>\n",
       "      <td>1587890013</td>\n",
       "      <td>8959</td>\n",
       "      <td>94.361113</td>\n",
       "      <td>85.973287</td>\n",
       "      <td>103.649659</td>\n",
       "      <td>106.946894</td>\n",
       "      <td>events/second</td>\n",
       "    </tr>\n",
       "    <tr>\n",
       "      <th>95</th>\n",
       "      <td>1587890014</td>\n",
       "      <td>9098</td>\n",
       "      <td>94.826381</td>\n",
       "      <td>89.957211</td>\n",
       "      <td>104.181057</td>\n",
       "      <td>107.106745</td>\n",
       "      <td>events/second</td>\n",
       "    </tr>\n",
       "    <tr>\n",
       "      <th>96</th>\n",
       "      <td>1587890015</td>\n",
       "      <td>9234</td>\n",
       "      <td>95.250193</td>\n",
       "      <td>89.957211</td>\n",
       "      <td>104.181057</td>\n",
       "      <td>107.106745</td>\n",
       "      <td>events/second</td>\n",
       "    </tr>\n",
       "    <tr>\n",
       "      <th>97</th>\n",
       "      <td>1587890016</td>\n",
       "      <td>9373</td>\n",
       "      <td>95.697801</td>\n",
       "      <td>89.957211</td>\n",
       "      <td>104.181057</td>\n",
       "      <td>107.106745</td>\n",
       "      <td>events/second</td>\n",
       "    </tr>\n",
       "  </tbody>\n",
       "</table>\n",
       "<p>98 rows × 7 columns</p>\n",
       "</div>"
      ],
      "text/plain": [
       "             t  count   mean_rate    m1_rate     m5_rate    m15_rate  \\\n",
       "0   1587889919     99  104.250203   0.000000    0.000000    0.000000   \n",
       "1   1587889920    215  110.319550   0.000000    0.000000    0.000000   \n",
       "2   1587889921    331  112.380810   0.000000    0.000000    0.000000   \n",
       "3   1587889922    442  111.335420   0.000000    0.000000    0.000000   \n",
       "4   1587889923    539  108.998418   0.000000    0.000000    0.000000   \n",
       "..         ...    ...         ...        ...         ...         ...   \n",
       "93  1587890012   8825   93.939214  85.973287  103.649659  106.946894   \n",
       "94  1587890013   8959   94.361113  85.973287  103.649659  106.946894   \n",
       "95  1587890014   9098   94.826381  89.957211  104.181057  107.106745   \n",
       "96  1587890015   9234   95.250193  89.957211  104.181057  107.106745   \n",
       "97  1587890016   9373   95.697801  89.957211  104.181057  107.106745   \n",
       "\n",
       "        rate_unit  \n",
       "0   events/second  \n",
       "1   events/second  \n",
       "2   events/second  \n",
       "3   events/second  \n",
       "4   events/second  \n",
       "..            ...  \n",
       "93  events/second  \n",
       "94  events/second  \n",
       "95  events/second  \n",
       "96  events/second  \n",
       "97  events/second  \n",
       "\n",
       "[98 rows x 7 columns]"
      ]
     },
     "execution_count": 9,
     "metadata": {},
     "output_type": "execute_result"
    }
   ],
   "source": [
    "df_rate = get_csv(1587889917228, 'ops-sent-all')\n",
    "df_rate"
   ]
  },
  {
   "cell_type": "code",
   "execution_count": 8,
   "metadata": {},
   "outputs": [
    {
     "data": {
      "text/html": [
       "<div>\n",
       "<style scoped>\n",
       "    .dataframe tbody tr th:only-of-type {\n",
       "        vertical-align: middle;\n",
       "    }\n",
       "\n",
       "    .dataframe tbody tr th {\n",
       "        vertical-align: top;\n",
       "    }\n",
       "\n",
       "    .dataframe thead th {\n",
       "        text-align: right;\n",
       "    }\n",
       "</style>\n",
       "<table border=\"1\" class=\"dataframe\">\n",
       "  <thead>\n",
       "    <tr style=\"text-align: right;\">\n",
       "      <th></th>\n",
       "      <th>t</th>\n",
       "      <th>value</th>\n",
       "    </tr>\n",
       "  </thead>\n",
       "  <tbody>\n",
       "    <tr>\n",
       "      <th>0</th>\n",
       "      <td>1587889919</td>\n",
       "      <td>130</td>\n",
       "    </tr>\n",
       "    <tr>\n",
       "      <th>1</th>\n",
       "      <td>1587889920</td>\n",
       "      <td>130</td>\n",
       "    </tr>\n",
       "    <tr>\n",
       "      <th>2</th>\n",
       "      <td>1587889921</td>\n",
       "      <td>130</td>\n",
       "    </tr>\n",
       "    <tr>\n",
       "      <th>3</th>\n",
       "      <td>1587889922</td>\n",
       "      <td>130</td>\n",
       "    </tr>\n",
       "    <tr>\n",
       "      <th>4</th>\n",
       "      <td>1587889923</td>\n",
       "      <td>130</td>\n",
       "    </tr>\n",
       "    <tr>\n",
       "      <th>...</th>\n",
       "      <td>...</td>\n",
       "      <td>...</td>\n",
       "    </tr>\n",
       "    <tr>\n",
       "      <th>93</th>\n",
       "      <td>1587890012</td>\n",
       "      <td>140</td>\n",
       "    </tr>\n",
       "    <tr>\n",
       "      <th>94</th>\n",
       "      <td>1587890013</td>\n",
       "      <td>140</td>\n",
       "    </tr>\n",
       "    <tr>\n",
       "      <th>95</th>\n",
       "      <td>1587890014</td>\n",
       "      <td>140</td>\n",
       "    </tr>\n",
       "    <tr>\n",
       "      <th>96</th>\n",
       "      <td>1587890015</td>\n",
       "      <td>140</td>\n",
       "    </tr>\n",
       "    <tr>\n",
       "      <th>97</th>\n",
       "      <td>1587890016</td>\n",
       "      <td>140</td>\n",
       "    </tr>\n",
       "  </tbody>\n",
       "</table>\n",
       "<p>98 rows × 2 columns</p>\n",
       "</div>"
      ],
      "text/plain": [
       "             t  value\n",
       "0   1587889919    130\n",
       "1   1587889920    130\n",
       "2   1587889921    130\n",
       "3   1587889922    130\n",
       "4   1587889923    130\n",
       "..         ...    ...\n",
       "93  1587890012    140\n",
       "94  1587890013    140\n",
       "95  1587890014    140\n",
       "96  1587890015    140\n",
       "97  1587890016    140\n",
       "\n",
       "[98 rows x 2 columns]"
      ]
     },
     "execution_count": 8,
     "metadata": {},
     "output_type": "execute_result"
    }
   ],
   "source": [
    "get_csv(1587889917228, 'polyglotAPI.controlledRate')"
   ]
  },
  {
   "cell_type": "code",
   "execution_count": 18,
   "metadata": {},
   "outputs": [
    {
     "data": {
      "text/plain": [
       "array([116, 116, 111,  97, 114, 125, 126, 115, 111, 125, 123, 123, 119,\n",
       "       111, 124, 129, 127, 128, 115, 127, 127, 128, 124, 112, 126, 128,\n",
       "       128, 125, 123, 129, 127, 128, 126, 123, 126, 128, 129, 125, 120,\n",
       "       128, 128, 128, 123, 119, 129, 128, 129, 127, 114, 125, 130, 129,\n",
       "       122, 119, 128, 128, 127, 127, 122,   7,   0,   0,   0,   0,   0,\n",
       "         0,   0,   0,   0,   0,   0,   0,   0,   0,   0,   0,   0,   0,\n",
       "         0,   0,   0,   0,  94, 127, 137, 138, 139, 138, 127, 139, 138,\n",
       "       139, 129, 134, 139, 136, 139])"
      ]
     },
     "execution_count": 18,
     "metadata": {},
     "output_type": "execute_result"
    }
   ],
   "source": [
    "df_rate['count'][1:].values - df_rate['count'][:-1].values"
   ]
  },
  {
   "cell_type": "markdown",
   "metadata": {},
   "source": [
    "## Folders\n",
    "\n",
    "* `1587892060198` : sdRequestNoSession 10 to 100; with log turned on; 2 mins each rate\n",
    "* `1587893442020` : concurReads 10 to 100; with log turned on; 2 mins each rate (same conditions as above) BUT: there was some sort of a pause in the load faker (GC or smth) and there is a misleading drop in response times BUT it is also present above. I made a screenshot `Screenshot from 2020-04-26 12-53-37.png`\n",
    "* `1587896166332` : same as those above"
   ]
  },
  {
   "cell_type": "code",
   "execution_count": 69,
   "metadata": {},
   "outputs": [],
   "source": [
    "def magic(timestamp):\n",
    "    rate = get_csv(timestamp, 'polyglotAPI.controlledRate')\n",
    "    post = get_csv(timestamp, 'favours.psql.RequestPostMessage.hist')\n",
    "    \n",
    "    aggregate = []\n",
    "    bins = []\n",
    "    for r in range(10, 101, 10):\n",
    "        idx = (rate['value'] == r)\n",
    "\n",
    "        mean_times = post['mean'].values[idx]\n",
    "        mean = np.mean(mean_times)\n",
    "        \n",
    "        aggregate.append(mean)\n",
    "        bins.append(r)\n",
    "    \n",
    "    print(aggregate)\n",
    "    print(bins)\n",
    "    plt.bar(bins, np.log10(aggregate), width=5)\n",
    "    plt.xlabel('Rate of requests sent')\n",
    "    plt.ylabel('Log10 of the response time in ms')"
   ]
  },
  {
   "cell_type": "code",
   "execution_count": 70,
   "metadata": {},
   "outputs": [
    {
     "name": "stdout",
     "output_type": "stream",
     "text": [
      "[15.085160624999999, 8.068604650000001, 7.639097483333334, 9.668075483333332, 13.881153333333334, 28.14442686666667, 84.85820296666667, 632.3613906528924, 4515.929087088888, 14467.870341171876]\n",
      "[10, 20, 30, 40, 50, 60, 70, 80, 90, 100]\n"
     ]
    },
    {
     "data": {
      "image/png": "[encoded data removed]",
      "text/plain": [
       "<Figure size 432x288 with 1 Axes>"
      ]
     },
     "metadata": {
      "needs_background": "light"
     },
     "output_type": "display_data"
    }
   ],
   "source": [
    "magic(1587892060198)"
   ]
  },
  {
   "cell_type": "code",
   "execution_count": 71,
   "metadata": {},
   "outputs": [
    {
     "name": "stdout",
     "output_type": "stream",
     "text": [
      "[19.746586833333332, 8.211057558333334, 7.190418883333334, 6.977837691666666, 7.400401391666667, 7.569459866666667, 8.252441216666666, 9.141905577235773, 3807.1775522230214, 12648.75884753226]\n",
      "[10, 20, 30, 40, 50, 60, 70, 80, 90, 100]\n"
     ]
    },
    {
     "data": {
      "image/png": "[encoded data removed]",
      "text/plain": [
       "<Figure size 432x288 with 1 Axes>"
      ]
     },
     "metadata": {
      "needs_background": "light"
     },
     "output_type": "display_data"
    }
   ],
   "source": [
    "magic(1587893442020)"
   ]
  },
  {
   "cell_type": "code",
   "execution_count": 72,
   "metadata": {},
   "outputs": [
    {
     "name": "stdout",
     "output_type": "stream",
     "text": [
      "[20.494287658333334, 8.608137491666666, 7.20219765, 7.4736061000000005, 7.3216841666666665, 7.863273616666667, 8.222393566666666, 8.914957715447152, 2154.422230463235, 14843.500566765308]\n",
      "[10, 20, 30, 40, 50, 60, 70, 80, 90, 100]\n"
     ]
    },
    {
     "data": {
      "image/png": "[encoded data removed]",
      "text/plain": [
       "<Figure size 432x288 with 1 Axes>"
      ]
     },
     "metadata": {
      "needs_background": "light"
     },
     "output_type": "display_data"
    }
   ],
   "source": [
    "magic(1587896166332)"
   ]
  },
  {
   "cell_type": "code",
   "execution_count": null,
   "metadata": {},
   "outputs": [],
   "source": []
  }
 ],
 "metadata": {
  "kernelspec": {
   "display_name": "Python 3",
   "language": "python",
   "name": "python3"
  },
  "language_info": {
   "codemirror_mode": {
    "name": "ipython",
    "version": 3
   },
   "file_extension": ".py",
   "mimetype": "text/x-python",
   "name": "python",
   "nbconvert_exporter": "python",
   "pygments_lexer": "ipython3",
   "version": "3.7.6"
  }
 },
 "nbformat": 4,
 "nbformat_minor": 4
}
